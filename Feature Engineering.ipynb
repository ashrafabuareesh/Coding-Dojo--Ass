{
 "cells": [
  {
   "cell_type": "code",
   "execution_count": 82,
   "id": "cb058f7d-f1ad-4d6c-8203-0f5779739d30",
   "metadata": {},
   "outputs": [],
   "source": [
    "import pandas as pd "
   ]
  },
  {
   "cell_type": "code",
   "execution_count": 83,
   "id": "199afb5a-772d-45cb-946c-95b4483b4100",
   "metadata": {},
   "outputs": [
    {
     "name": "stdout",
     "output_type": "stream",
     "text": [
      "<class 'pandas.core.frame.DataFrame'>\n",
      "RangeIndex: 10886 entries, 0 to 10885\n",
      "Data columns (total 12 columns):\n",
      " #   Column      Non-Null Count  Dtype  \n",
      "---  ------      --------------  -----  \n",
      " 0   datetime    10886 non-null  object \n",
      " 1   season      10886 non-null  int64  \n",
      " 2   holiday     10886 non-null  int64  \n",
      " 3   workingday  10886 non-null  int64  \n",
      " 4   weather     10886 non-null  int64  \n",
      " 5   temp        10886 non-null  float64\n",
      " 6   atemp       10886 non-null  float64\n",
      " 7   humidity    10886 non-null  int64  \n",
      " 8   windspeed   10886 non-null  float64\n",
      " 9   casual      10886 non-null  int64  \n",
      " 10  registered  10886 non-null  int64  \n",
      " 11  count       10886 non-null  int64  \n",
      "dtypes: float64(3), int64(8), object(1)\n",
      "memory usage: 1020.7+ KB\n"
     ]
    }
   ],
   "source": [
    "df= pd.read_csv(\"bikeshare_train - bikeshare_train.csv\")\n",
    "df.info()\n"
   ]
  },
  {
   "cell_type": "code",
   "execution_count": 84,
   "id": "33299060-3fed-4972-9684-6cff13a91720",
   "metadata": {},
   "outputs": [
    {
     "data": {
      "text/plain": [
       "datetime      0\n",
       "season        0\n",
       "holiday       0\n",
       "workingday    0\n",
       "weather       0\n",
       "temp          0\n",
       "atemp         0\n",
       "humidity      0\n",
       "windspeed     0\n",
       "casual        0\n",
       "registered    0\n",
       "count         0\n",
       "dtype: int64"
      ]
     },
     "execution_count": 84,
     "metadata": {},
     "output_type": "execute_result"
    }
   ],
   "source": [
    "df.isna().sum()"
   ]
  },
  {
   "cell_type": "code",
   "execution_count": 85,
   "id": "b7be9968-d3dd-430d-b6ea-8716cf868b97",
   "metadata": {},
   "outputs": [],
   "source": [
    "#drop the 'casual' and 'registered' columns\n",
    "df=df.drop(columns=['casual','registered'])"
   ]
  },
  {
   "cell_type": "code",
   "execution_count": 86,
   "id": "0640c837-eabe-48c1-b42c-23ed3639a186",
   "metadata": {},
   "outputs": [
    {
     "name": "stdout",
     "output_type": "stream",
     "text": [
      "<class 'pandas.core.frame.DataFrame'>\n",
      "RangeIndex: 10886 entries, 0 to 10885\n",
      "Data columns (total 10 columns):\n",
      " #   Column      Non-Null Count  Dtype         \n",
      "---  ------      --------------  -----         \n",
      " 0   datetime    10886 non-null  datetime64[ns]\n",
      " 1   season      10886 non-null  int64         \n",
      " 2   holiday     10886 non-null  int64         \n",
      " 3   workingday  10886 non-null  int64         \n",
      " 4   weather     10886 non-null  int64         \n",
      " 5   temp        10886 non-null  float64       \n",
      " 6   atemp       10886 non-null  float64       \n",
      " 7   humidity    10886 non-null  int64         \n",
      " 8   windspeed   10886 non-null  float64       \n",
      " 9   count       10886 non-null  int64         \n",
      "dtypes: datetime64[ns](1), float64(3), int64(6)\n",
      "memory usage: 850.6 KB\n"
     ]
    }
   ],
   "source": [
    "df['datetime']=pd.to_datetime(df['datetime'])\n",
    "df.info()"
   ]
  },
  {
   "cell_type": "code",
   "execution_count": 87,
   "id": "a9345b73-520d-4fa1-9aef-bb47fc7afde3",
   "metadata": {},
   "outputs": [
    {
     "data": {
      "text/plain": [
       "0       2011-01-01 00:00:00\n",
       "1       2011-01-01 01:00:00\n",
       "2       2011-01-01 02:00:00\n",
       "3       2011-01-01 03:00:00\n",
       "4       2011-01-01 04:00:00\n",
       "                ...        \n",
       "10881   2012-12-19 19:00:00\n",
       "10882   2012-12-19 20:00:00\n",
       "10883   2012-12-19 21:00:00\n",
       "10884   2012-12-19 22:00:00\n",
       "10885   2012-12-19 23:00:00\n",
       "Name: datetime, Length: 10886, dtype: datetime64[ns]"
      ]
     },
     "execution_count": 87,
     "metadata": {},
     "output_type": "execute_result"
    }
   ],
   "source": [
    "df['datetime']"
   ]
  },
  {
   "cell_type": "code",
   "execution_count": 88,
   "id": "325700bf-6309-4428-8b97-02e7521624e0",
   "metadata": {},
   "outputs": [],
   "source": [
    "#Transform the 'datetime' column into a datetime type and use it to create 3 new columns in the data frame containing the\n",
    "df['name of month']= df['datetime'].dt.month_name()\n",
    "df['day of week (name)']= df['datetime'].dt.day_name()\n",
    "df['Hour'] = df['datetime'].dt.hour\n",
    "#Drop the 'datetime' and 'season' columns\n",
    "df=df.drop(columns=['datetime','season'])"
   ]
  },
  {
   "cell_type": "code",
   "execution_count": 89,
   "id": "3ef4c29f-e38a-4cb9-919b-88ed0fa8a834",
   "metadata": {},
   "outputs": [],
   "source": [
    "temps= ['atemp','temp']\n",
    "df[temps]= df[temps].apply(lambda x:(x*1.8)+32)"
   ]
  },
  {
   "cell_type": "code",
   "execution_count": 90,
   "id": "3d0d24c8-99c3-4c1f-b8f5-f5aee5225ed5",
   "metadata": {},
   "outputs": [],
   "source": [
    "#df['atemp'].mean()\n",
    "df['temp_variance']=df['temp'].apply(lambda x : \"warmer\" if x>(df['atemp'].mean()) else \"colder\" )\n",
    "df=df.drop(columns=\"atemp\")"
   ]
  },
  {
   "cell_type": "code",
   "execution_count": 91,
   "id": "e5857245-1da0-4992-9fde-ab8461471d05",
   "metadata": {},
   "outputs": [
    {
     "data": {
      "text/html": [
       "<div>\n",
       "<style scoped>\n",
       "    .dataframe tbody tr th:only-of-type {\n",
       "        vertical-align: middle;\n",
       "    }\n",
       "\n",
       "    .dataframe tbody tr th {\n",
       "        vertical-align: top;\n",
       "    }\n",
       "\n",
       "    .dataframe thead th {\n",
       "        text-align: right;\n",
       "    }\n",
       "</style>\n",
       "<table border=\"1\" class=\"dataframe\">\n",
       "  <thead>\n",
       "    <tr style=\"text-align: right;\">\n",
       "      <th></th>\n",
       "      <th>holiday</th>\n",
       "      <th>workingday</th>\n",
       "      <th>weather</th>\n",
       "      <th>temp</th>\n",
       "      <th>humidity</th>\n",
       "      <th>windspeed</th>\n",
       "      <th>count</th>\n",
       "      <th>name of month</th>\n",
       "      <th>day of week (name)</th>\n",
       "      <th>Hour</th>\n",
       "      <th>temp_variance</th>\n",
       "    </tr>\n",
       "  </thead>\n",
       "  <tbody>\n",
       "    <tr>\n",
       "      <th>0</th>\n",
       "      <td>0</td>\n",
       "      <td>0</td>\n",
       "      <td>1</td>\n",
       "      <td>49.712</td>\n",
       "      <td>81</td>\n",
       "      <td>0.0</td>\n",
       "      <td>16</td>\n",
       "      <td>January</td>\n",
       "      <td>Saturday</td>\n",
       "      <td>0</td>\n",
       "      <td>colder</td>\n",
       "    </tr>\n",
       "    <tr>\n",
       "      <th>1</th>\n",
       "      <td>0</td>\n",
       "      <td>0</td>\n",
       "      <td>1</td>\n",
       "      <td>48.236</td>\n",
       "      <td>80</td>\n",
       "      <td>0.0</td>\n",
       "      <td>40</td>\n",
       "      <td>January</td>\n",
       "      <td>Saturday</td>\n",
       "      <td>1</td>\n",
       "      <td>colder</td>\n",
       "    </tr>\n",
       "    <tr>\n",
       "      <th>2</th>\n",
       "      <td>0</td>\n",
       "      <td>0</td>\n",
       "      <td>1</td>\n",
       "      <td>48.236</td>\n",
       "      <td>80</td>\n",
       "      <td>0.0</td>\n",
       "      <td>32</td>\n",
       "      <td>January</td>\n",
       "      <td>Saturday</td>\n",
       "      <td>2</td>\n",
       "      <td>colder</td>\n",
       "    </tr>\n",
       "    <tr>\n",
       "      <th>3</th>\n",
       "      <td>0</td>\n",
       "      <td>0</td>\n",
       "      <td>1</td>\n",
       "      <td>49.712</td>\n",
       "      <td>75</td>\n",
       "      <td>0.0</td>\n",
       "      <td>13</td>\n",
       "      <td>January</td>\n",
       "      <td>Saturday</td>\n",
       "      <td>3</td>\n",
       "      <td>colder</td>\n",
       "    </tr>\n",
       "    <tr>\n",
       "      <th>4</th>\n",
       "      <td>0</td>\n",
       "      <td>0</td>\n",
       "      <td>1</td>\n",
       "      <td>49.712</td>\n",
       "      <td>75</td>\n",
       "      <td>0.0</td>\n",
       "      <td>1</td>\n",
       "      <td>January</td>\n",
       "      <td>Saturday</td>\n",
       "      <td>4</td>\n",
       "      <td>colder</td>\n",
       "    </tr>\n",
       "  </tbody>\n",
       "</table>\n",
       "</div>"
      ],
      "text/plain": [
       "   holiday  workingday  weather    temp  humidity  windspeed  count  \\\n",
       "0        0           0        1  49.712        81        0.0     16   \n",
       "1        0           0        1  48.236        80        0.0     40   \n",
       "2        0           0        1  48.236        80        0.0     32   \n",
       "3        0           0        1  49.712        75        0.0     13   \n",
       "4        0           0        1  49.712        75        0.0      1   \n",
       "\n",
       "  name of month day of week (name)  Hour temp_variance  \n",
       "0       January           Saturday     0        colder  \n",
       "1       January           Saturday     1        colder  \n",
       "2       January           Saturday     2        colder  \n",
       "3       January           Saturday     3        colder  \n",
       "4       January           Saturday     4        colder  "
      ]
     },
     "execution_count": 91,
     "metadata": {},
     "output_type": "execute_result"
    }
   ],
   "source": [
    "df.head()"
   ]
  },
  {
   "cell_type": "code",
   "execution_count": null,
   "id": "edf716ae-4a30-487c-bbfa-113ea5e2d597",
   "metadata": {},
   "outputs": [],
   "source": []
  },
  {
   "cell_type": "code",
   "execution_count": null,
   "id": "0738681e-0a5a-49a9-bb3d-f96c3dc07cb2",
   "metadata": {},
   "outputs": [],
   "source": []
  }
 ],
 "metadata": {
  "kernelspec": {
   "display_name": "python (dojo-env)",
   "language": "python",
   "name": "dojo-env"
  },
  "language_info": {
   "codemirror_mode": {
    "name": "ipython",
    "version": 3
   },
   "file_extension": ".py",
   "mimetype": "text/x-python",
   "name": "python",
   "nbconvert_exporter": "python",
   "pygments_lexer": "ipython3",
   "version": "3.10.10"
  },
  "widgets": {
   "application/vnd.jupyter.widget-state+json": {
    "state": {},
    "version_major": 2,
    "version_minor": 0
   }
  }
 },
 "nbformat": 4,
 "nbformat_minor": 5
}
